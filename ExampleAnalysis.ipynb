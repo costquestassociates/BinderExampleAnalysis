{
 "cells": [
  {
   "cell_type": "markdown",
   "id": "306d450c",
   "metadata": {},
   "source": [
    "#### Example API and Analysis Notebook"
   ]
  },
  {
   "cell_type": "code",
   "execution_count": 1,
   "id": "e28e47cb",
   "metadata": {},
   "outputs": [
    {
     "name": "stdout",
     "output_type": "stream",
     "text": [
      "Collecting requests (from -r cqazapipytools/requirements.txt (line 1))\n",
      "  Downloading requests-2.32.5-py3-none-any.whl.metadata (4.9 kB)\n",
      "Collecting urllib3 (from -r cqazapipytools/requirements.txt (line 2))\n",
      "  Downloading urllib3-2.5.0-py3-none-any.whl.metadata (6.5 kB)\n",
      "Collecting flatten_json (from -r cqazapipytools/requirements.txt (line 3))\n",
      "  Downloading flatten_json-0.1.14-py3-none-any.whl.metadata (4.2 kB)\n",
      "Collecting charset_normalizer<4,>=2 (from requests->-r cqazapipytools/requirements.txt (line 1))\n",
      "  Downloading charset_normalizer-3.4.4-cp310-cp310-manylinux2014_x86_64.manylinux_2_17_x86_64.manylinux_2_28_x86_64.whl.metadata (37 kB)\n",
      "Collecting idna<4,>=2.5 (from requests->-r cqazapipytools/requirements.txt (line 1))\n",
      "  Downloading idna-3.11-py3-none-any.whl.metadata (8.4 kB)\n",
      "Collecting certifi>=2017.4.17 (from requests->-r cqazapipytools/requirements.txt (line 1))\n",
      "  Downloading certifi-2025.10.5-py3-none-any.whl.metadata (2.5 kB)\n",
      "Requirement already satisfied: six in ./.venv/lib/python3.10/site-packages (from flatten_json->-r cqazapipytools/requirements.txt (line 3)) (1.17.0)\n",
      "Downloading requests-2.32.5-py3-none-any.whl (64 kB)\n",
      "Downloading urllib3-2.5.0-py3-none-any.whl (129 kB)\n",
      "Downloading charset_normalizer-3.4.4-cp310-cp310-manylinux2014_x86_64.manylinux_2_17_x86_64.manylinux_2_28_x86_64.whl (153 kB)\n",
      "Downloading idna-3.11-py3-none-any.whl (71 kB)\n",
      "Downloading flatten_json-0.1.14-py3-none-any.whl (8.0 kB)\n",
      "Downloading certifi-2025.10.5-py3-none-any.whl (163 kB)\n",
      "Installing collected packages: urllib3, idna, flatten_json, charset_normalizer, certifi, requests\n",
      "\u001b[2K   \u001b[90m━━━━━━━━━━━━━━━━━━━━━━━━━━━━━━━━━━━━━━━━\u001b[0m \u001b[32m6/6\u001b[0m [requests]1/6\u001b[0m [idna]\n",
      "\u001b[1A\u001b[2KSuccessfully installed certifi-2025.10.5 charset_normalizer-3.4.4 flatten_json-0.1.14 idna-3.11 requests-2.32.5 urllib3-2.5.0\n"
     ]
    }
   ],
   "source": [
    "from git import Repo\n",
    "\n",
    "import numpy as np\n",
    "import pandas as pd\n",
    "import matplotlib.pyplot as plt\n",
    "\n",
    "import json\n",
    "\n",
    "Repo.clone_from(\"https://github.com/costquestassociates/cqazapi-pytools.git\", \"cqazapipytools\")\n",
    "!pip install -r cqazapipytools/requirements.txt"
   ]
  },
  {
   "cell_type": "code",
   "execution_count": null,
   "id": "daeaee7b",
   "metadata": {},
   "outputs": [
    {
     "name": "stdout",
     "output_type": "stream",
     "text": [
      "cq-ef3...93f481\n"
     ]
    }
   ],
   "source": [
    "API_KEY = \"\"\n",
    "\n",
    "if not API_KEY:\n",
    "    try:\n",
    "        with open('secrets.json', 'r') as f:\n",
    "            secrets = json.load(f)\n",
    "        API_KEY = secrets.get('apikey')\n",
    "    except FileNotFoundError:\n",
    "        API_KEY = None\n",
    "\n",
    "if not API_KEY:\n",
    "    raise RuntimeError(\"API key not found. Please fill in your API_KEY in the variable above.\")\n",
    "\n",
    "print(f\"API_KEY: {API_KEY[:6] + \"...\" + API_KEY[-6:]}\")"
   ]
  },
  {
   "cell_type": "markdown",
   "id": "9afd7851",
   "metadata": {},
   "source": [
    "### Use API to query Clarke County, Georgia"
   ]
  },
  {
   "cell_type": "code",
   "execution_count": null,
   "id": "22fc044f",
   "metadata": {},
   "outputs": [],
   "source": [
    "from cqazapipytools import *\n",
    "\n",
    "VINTAGE = '202412'\n",
    "FIELDS = 'location_id,blockfips,bdc_fiber,fibergreenfieldpassinv'\n",
    "COUNTY_FIPS = '13059' # Clarke County, Georgia\n",
    "CHUNK_SIZE = 1000\n",
    "LIMIT = None  # None returns all rows\n",
    "\n",
    "with cqazapipytools(API_KEY, cachepath='cache.db') as cp:\n",
    "    # Collect Fabric UUIDs inside the county\n",
    "    county_geojson = cp.apiAction(f'geosvc/libgetgeo/tiger/2020/counties?id={COUNTY_FIPS}', 'GET')\n",
    "    uuids = cp.collect(VINTAGE, county_geojson)\n",
    "\n",
    "    if LIMIT:\n",
    "        uuids = uuids[:LIMIT]\n",
    "\n",
    "    # Call Fabric bulk api, retrieve only desired fields\n",
    "    endpoint = f'fabric/{VINTAGE}/bulk/locations?field={FIELDS}'\n",
    "    results = cp.bulkApiAction(endpoint, 'POST', uuids, maxsize=CHUNK_SIZE)\n",
    "\n",
    "    # Write to CSV \n",
    "    cp.csvWrite(f'county_{COUNTY_FIPS}_fabric.csv', results)\n",
    "\n",
    "    # Show a quick sample\n",
    "    print(f\"Returned {len(results)} records\")\n",
    "    for r in results[:3]:\n",
    "        print(r)"
   ]
  },
  {
   "cell_type": "code",
   "execution_count": null,
   "id": "b88a1ccc",
   "metadata": {},
   "outputs": [],
   "source": [
    "results_df = pd.DataFrame(results)\n",
    "results_df.drop('uuid', axis=1, inplace = True)\n",
    "service_map = {3: \"Unserved\", 2: \"Underserved\", 1: \"Served\"}\n",
    "results_df[\"service_level\"] = results_df[\"bdc_fiber\"].map(service_map).astype(\"category\")\n",
    "results_df.head()"
   ]
  },
  {
   "cell_type": "markdown",
   "id": "2cd8daca",
   "metadata": {},
   "source": [
    "### Quick Plotting"
   ]
  },
  {
   "cell_type": "code",
   "execution_count": null,
   "id": "642152cf",
   "metadata": {},
   "outputs": [],
   "source": [
    "df = results_df.copy()\n",
    "\n",
    "min_val = df['fibergreenfieldpassinv'].min()\n",
    "max_val = 5000\n",
    "bins = np.arange(0, max_val + 1, 500)\n",
    "\n",
    "# Create a bin label column (intervals)\n",
    "df['inv_bin'] = pd.cut(df['fibergreenfieldpassinv'], bins=bins, include_lowest=True)\n",
    "\n",
    "# Group and count by bin and service level\n",
    "grouped = df.groupby(['inv_bin', 'service_level'], observed=True).size().unstack(fill_value=0)\n",
    "\n",
    "# #Plot stacked bar chart\n",
    "fig, ax = plt.subplots(figsize=(10, 6))\n",
    "grouped.plot(kind='bar', stacked=True, ax=ax, width=0.8, colormap='tab20')\n",
    "\n",
    "ax.set_xlabel('Fiber Greenfield Pass Investment (binned)', fontsize = 20)\n",
    "ax.set_ylabel('BSL Count', fontsize = 20)\n",
    "ax.set_title('Clarke County (Georgia) Fiber', fontsize = 20)\n",
    "ax.legend(title='Service Level')\n",
    "\n",
    "# Improve xlabels: show bin ranges nicely\n",
    "ax.set_xticklabels([f'{np.abs(interval.left):.0f}–{interval.right:.0f}' for interval in grouped.index], rotation=45, ha='right')\n",
    "\n",
    "plt.tight_layout()\n",
    "plt.show()"
   ]
  }
 ],
 "metadata": {
  "kernelspec": {
   "display_name": ".venv",
   "language": "python",
   "name": "python3"
  },
  "language_info": {
   "codemirror_mode": {
    "name": "ipython",
    "version": 3
   },
   "file_extension": ".py",
   "mimetype": "text/x-python",
   "name": "python",
   "nbconvert_exporter": "python",
   "pygments_lexer": "ipython3",
   "version": "3.10.12"
  }
 },
 "nbformat": 4,
 "nbformat_minor": 5
}
